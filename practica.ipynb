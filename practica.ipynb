{
 "cells": [
  {
   "cell_type": "markdown",
   "metadata": {},
   "source": [
    "# Introducción\n",
    "\n",
    "El trabajo de un profesor es un trabajo difícil, pues son los encargados de que el día de mañana sus pequeños aprendices sean personas que puedan aportar a la sociedad con su conocimiento y trabajo, pero al mismo tiempo también acaban teniendo un trabajo en valores debido a la gran cantidad de horas que conviven con sus pupilos.\n",
    "\n",
    "Es por todo esto que la etapa escolar es bastante definitoria, y aunque haya opiniones diversas, al final esta etapa se superará y quedará marcada por el rendimiento que tenga el alumno en ella. Esto vuelve aún más complejo el trabajo de un profesor, pues debe ser capaz de hacer que sus alumnos tengan un buen rendimiento teniendo en cuenta que cada uno es distinto, y que cada uno tiene unas situaciones particulares. Ya no es algo solamente lógico, sino que también se ha notado que en muchas ocasiones los profesores no son capaces de prestar atención a aquel que más lo necesita, para poner especial empeño y adaptaciones para que este consiga el éxito en la etapa escolar.\n",
    "\n",
    "Este estudio trata de echar una mano a estos profesores que no saben identificar a tiempo a aquellos alumnos que van a acabar necesitando más ayuda. Vamos a realizar un análisis de datos de una encuesta realizada en Bangladesh a ciertos alumnos. Esta encuesta contiene ciertos valores que nos parecen interesantes de revisar ya que pensamos que afectan o acabarán afectando al rendimiento escolar de un alumno\n",
    "\n",
    "# Dataset\n",
    "\n",
    "## Columnas del dataset que vamos a usar\n",
    "- `Gender`: Género del alumno\n",
    "- `Age` : Edad del alumno\n",
    "- `Study Hour/Day` : Horas de estudio al día\n",
    "- `Learning mode` : Modalidad de aprendizaje\n",
    "- `How many hour do you spent daily in social media?` : Horas diarias en redes sociales\n",
    "- `Average attendance` : Asistencia media\n",
    "- `With whom you are living?` : Con quién vive\n",
    "- `What was your previous SGPA?` : Nota media anterior\n",
    "- `What is your monthly family income?` : Ingresos familiares\n",
    "\n",
    "Lo primero que hemos hecho ha sido renombrar algunas de las columnas ya que no estaban muy bien redactadas. Además, hemos eliminado las columnas que no vamos a utilizar en nuestro análisis. \n",
    "\n",
    "Lo siguiente que hemos hecho ha sido eliminar las filas que contienen valores nulos."
   ]
  },
  {
   "cell_type": "code",
   "execution_count": null,
   "metadata": {},
   "outputs": [],
   "source": [
    "#Limpieza del dataset de los datos de los estudiantes.\n",
    "import numpy as np\n",
    "import matplotlib.pyplot as plt\n",
    "#import seaborn as sns\n",
    "import pandas as pd\n",
    "import regex as re\n",
    "\n",
    "#Cargamos el dataset\n",
    "\n",
    "data = pd.read_csv('Students_Performance_data_set.csv')\n",
    "\n",
    "pd.set_option('display.max_columns', None)\n",
    "\n",
    "data.shape\n",
    "\n",
    "#Renombramos las columnas que nos interesan\n",
    "\n",
    "new_columns = {'Gender':'Gender', 'Age':'Age', 'Study Hour/day':'Study time', 'Learning mode':'Learning mode', 'How many hour do you spent daily in social media?':'Time on social media', 'Average attendance on class':'Average attendance', 'With whom you are living with?':'Cohabitants', 'What was your previous SGPA?':'Previous SGPA', 'What is your current CGPA?':'Current CPGA', 'What is your monthly family income?':'Family income'}\n",
    "\n",
    "data.rename(columns=new_columns, inplace=True)\n",
    "\n",
    "#Seleccionamos las columnas que nos interesan\n",
    "\n",
    "columns_of_interest = ['Gender', 'Age', 'Study time', 'Learning mode', 'Time on social media', 'Average attendance', 'Cohabitants', 'Previous SGPA', 'Current CPGA',  'Family income']\n",
    "\n",
    "data = data[columns_of_interest]\n",
    "\n",
    "#Eliminamos las filas con valores nulos\n",
    "data = data.dropna()"
   ]
  },
  {
   "cell_type": "markdown",
   "metadata": {},
   "source": [
    "## Estandarización de Age\n",
    "Hemos usado la funcion unique() para ver que tipos de valores pueden tomar estos datos. Hemos apuntados aquellos que no son numéricos o dan un rango y hemos decidido cambiarlos a numéricos. Esto se puede ver el bloque de código siguiente."
   ]
  },
  {
   "cell_type": "code",
   "execution_count": null,
   "metadata": {},
   "outputs": [],
   "source": [
    "data['Age'].unique()\n",
    "\n",
    "# notamos que hay 6 valores que se salen de un numero como tal asi que usamos un replace para cambiarlos a un valor que no afecte el analisis\n",
    "data['Age'] = data['Age'].replace({\n",
    "    '21+' : 21,\n",
    "    '23.6' : 23,\n",
    "    '20+' : 20,\n",
    "    '22+' : 22,\n",
    "    '24+' : 24,\n",
    "    '20 years 6 months' : 20\n",
    "})"
   ]
  },
  {
   "cell_type": "markdown",
   "metadata": {},
   "source": [
    "## Estandarizacion de tiempos\n",
    "\n",
    "Lo que hemos hecho en el codigo que sigue este bloque de markdown es estandarizar los tiempos para poder tener los datos correctos tanto como para el Study Time como para el Time on Social Media."
   ]
  },
  {
   "cell_type": "code",
   "execution_count": null,
   "metadata": {},
   "outputs": [],
   "source": [
    "### Usamos la función unique para ver los valores únicos de la columna y asi saber como estandarizarlos\n",
    "# print(data['Study time'].unique())\n",
    "\n",
    "def standarise_time(time): # sigue teniendo un error en la función cuando tiene un valor de minutos y otro seguido de horas\n",
    "    # we extract the number and hour/minute from the string\n",
    "    hours_numeric = re.findall(r'\\d+', str(time))\n",
    "    \n",
    "    # extract the numeric value for the hours\n",
    "    if 'hours' in str(time).lower() or 'hour' in str(time).lower() or 'hrs' in str(time).lower() or 'hr' in str(time).lower():\n",
    "        if hours_numeric:\n",
    "            return int(hours_numeric[0])\n",
    "        else:\n",
    "            return None\n",
    "    # extract the numeric value for the minutes and convert them to hours convert to lower case to avoid case sensitivity\n",
    "    elif 'minutes' in str(time).lower() or 'minute' in str(time).lower() or 'mins' in str(time).lower() or 'min' in str(time).lower() :\n",
    "        if hours_numeric:\n",
    "            return int(hours_numeric[0])/60\n",
    "        else:\n",
    "            return None\n",
    "\n",
    "    # Some of the data is written in a range format, so we need to calculate the average\n",
    "    elif '-' in str(time) or 'to' in str(time).lower() or 'or' in str(time).lower() or '/' in str(time):\n",
    "        # we calculate the average\n",
    "        if len(hours_numeric) == 2:\n",
    "            return (int(hours_numeric[0]) + int(hours_numeric[1]))/2\n",
    "        else:\n",
    "            return None\n",
    "    # if the data is in a numeric format, we just return the number\n",
    "    elif hours_numeric:\n",
    "        return int(hours_numeric[0])\n",
    "    else:\n",
    "        return None\n",
    "\n",
    "# Aplicamos la función a la columna \"Study time\"\n",
    "data['Study stand'] = data['Study time'].apply(standarise_time)\n",
    "\n",
    "# Aplicamos la función a la columna \"Time on social media\"\n",
    "data['Social stand'] = data['Time on social media'].apply(standarise_time)\n",
    "\n",
    "# TODO faltan nulos\n",
    "\n"
   ]
  },
  {
   "cell_type": "markdown",
   "metadata": {},
   "source": [
    "## Estandarizacion de Attendance\n",
    "\n",
    "En el siguiente bloque de codigo hemos implementado la funcion standarise_attendance(value) convirtiendo los datos para que siguan el mismo formato compuesto por un numero y ya esta. Para aquellos valores que sean NaN, cogeremos el valor medio de la columna. "
   ]
  },
  {
   "cell_type": "code",
   "execution_count": null,
   "metadata": {},
   "outputs": [],
   "source": [
    "def standarise_attendance(attendance):\n",
    "    \n",
    "    # primero quitamos todos los caracteres que no sean alfanuméricos o un signo de porcentaje\n",
    "    value = re.sub(r'[^a-zA-Z0-9%]', '', str(attendance))\n",
    "    \n",
    "    if '%' in value:\n",
    "        value = re.search(r'\\d+', value).group()\n",
    "        value = int(value)\n",
    "    # si no es un porcentaje intentar convertirlo a un número\n",
    "    else:\n",
    "        try:\n",
    "            value = int(value)\n",
    "        except ValueError:\n",
    "            value = float('nan')\n",
    "            \n",
    "    # asegurarse de que el valor esté entre 0 y 100\n",
    "    value = min(max(value, 0), 100)\n",
    "    return value\n",
    "\n",
    "## Aplicamos la función a la columna \"Average attendance\"\n",
    "data['Attendance stand'] = data['Average attendance'].apply(standarise_attendance)\n",
    "\n",
    "## TODO faltan nulos"
   ]
  },
  {
   "cell_type": "markdown",
   "metadata": {},
   "source": [
    "## Estandarizacion de CGPA y SGPA\n",
    "\n",
    "En este caso en vez de definir una funcion como todos los datos que estan en formato numerico son correctos usamos to_numeric() de pandas, cuando se encuentre con una valor que no se puede convertir a numerico devolvemos NaN con errors='coerce'."
   ]
  },
  {
   "cell_type": "code",
   "execution_count": null,
   "metadata": {},
   "outputs": [],
   "source": [
    "data[\"Current CPGA stand\"] = pd.to_numeric(data[\"Current CPGA\"], errors='coerce')\n",
    "\n",
    "data[\"Previous SGPA stand\"] = pd.to_numeric(data[\"Previous SGPA\"], errors='coerce')\n",
    "\n",
    "# TODO faltan nulos"
   ]
  },
  {
   "cell_type": "markdown",
   "metadata": {},
   "source": [
    "## Estandandarizacion de Family Income\n",
    "Como siempre usamos data.unique() para ver los valores que toman los datos y de ahi decidir como vamos a tratar los datos que consideramos \"anomalos\" o mal escritos.\n",
    "\n",
    "1. Convertir de otras monedas y otras magnitudes a bdt 10E\n",
    "2. Transformar los rangos a un valor numerico\n",
    "3. Quitar el BDT que es la moneda de Bangladesh\n",
    "4. Dejar numeros limpios. Alguna gente a puesto valores como \"Approximately 30000\". Lo hemos convertido al valor numerico"
   ]
  },
  {
   "cell_type": "code",
   "execution_count": null,
   "metadata": {},
   "outputs": [],
   "source": [
    "\n",
    "# transform currency to bdt 10E\n",
    "def convert_to_bdt_standard(income):\n",
    "    if isinstance(income, str) and '$' in income.lower():\n",
    "        number = re.findall(r'\\d+', income)\n",
    "        if number:\n",
    "            return int(number[0])*109.7 #Conversion de dolar a taka 10.04.2024\n",
    "    if isinstance(income, str) and 'lac' in income.lower():\n",
    "        number = re.findall(r'\\d+', income)\n",
    "        if number:\n",
    "            return int(number[0])*100000 #Conversion de lakh(lac) a estandard\n",
    "    if isinstance(income, str) and 'k' in income.lower():\n",
    "        number = re.findall(r'\\d+', income)\n",
    "        if number:\n",
    "            return int(number[0])*1000\n",
    "    return income\n",
    "\n",
    "# transformamos rangos a la media\n",
    "def remove_range(income):\n",
    "    if isinstance(income, str) and ('-' in income or '/' in income) :\n",
    "        numbers = re.findall(r'\\d+', income)\n",
    "        if len(numbers) == 2:\n",
    "            return (int(numbers[0]) + int(numbers[1]))/2\n",
    "    return income\n",
    "    \n",
    "# quitando el BDT\n",
    "def remove_BDT(income):\n",
    "    if isinstance(income, str) and ('bdt' in income.lower() or 'DBT' in income or 'BTD' in income or 'taka' in income):\n",
    "        number = re.findall(r'\\d+', income)\n",
    "        if number:\n",
    "            return int(number[0])\n",
    "    return income\n",
    "\n",
    "def clean_numbers(income):\n",
    "    if isinstance(income, str):\n",
    "        number = re.findall(r'\\d+', income)\n",
    "        if number:\n",
    "            return number[0]\n",
    "    return income\n",
    "\n",
    "# apply the function to the column\n",
    "data['Family income stand'] = data['Family income'].apply(convert_to_bdt_standard)\n",
    "data['Family income stand'] = data['Family income stand'].apply(remove_range)\n",
    "data['Family income stand'] = data['Family income stand'].apply(remove_BDT)\n",
    "data['Family income stand'] = data['Family income stand'].apply(clean_numbers)\n",
    "data['Family income stand'] = pd.to_numeric(data['Family income stand'], errors='coerce')\n",
    "\n",
    "## TODO si queremos inferir aquellos datos que no se pudieron estandarizar en vez de hacer la media guarra\n",
    "mean_income = data['Family income stand'].mean()\n",
    "data['Family income stand'] = data['Family income stand'].fillna(mean_income)\n",
    "data['Family income stand'] = data['Family income stand'].astype(int) \n"
   ]
  },
  {
   "cell_type": "markdown",
   "metadata": {},
   "source": [
    "## Conversion de datos\n",
    "\n",
    "Convertimos los numeros a numericos"
   ]
  },
  {
   "cell_type": "code",
   "execution_count": null,
   "metadata": {},
   "outputs": [],
   "source": [
    "data['Family income stand'] = pd.to_numeric(data['Family income stand'], errors='coerce')\n",
    "data['Attendance stand'] = pd.to_numeric(data['Attendance stand'], errors='coerce')\n",
    "data['Study stand'] = pd.to_numeric(data['Study stand'], errors='coerce')\n",
    "data['Social stand'] = pd.to_numeric(data['Social stand'], errors='coerce')\n",
    "data['Age stand'] = pd.to_numeric(data['Age'], errors='coerce')\n",
    "\n",
    "## creamos un nuevo dataset con las columnas que nos interesan\n",
    "new_columns = ['Gender', 'Age stand', 'Study stand', 'Learning mode', 'Social stand', 'Attendance stand', 'Cohabitants', 'Previous SGPA stand', 'Current CPGA stand', 'Family income stand']\n",
    "\n",
    "data = data[new_columns]\n",
    "\n",
    "## data.dropna()\n",
    "display(data)\n",
    "\n",
    "## mostrar numero de valores nulos\n",
    "print(data.isnull().sum())\n",
    "\n",
    "data.to_csv('Students_Performance_data_set_cleaned.csv', index=False)\n",
    "dataCL = pd.read_csv('Students_Performance_data_set_cleaned.csv')"
   ]
  },
  {
   "cell_type": "markdown",
   "metadata": {},
   "source": [
    "## Preparación datos para entrenamieto\n",
    "Utilizamos preprocessing y KNNImputer para transformar los datos cualitativos a valores discretos que el algoritmo entienda y podamos realizar imputaciones con ellos.\n",
    "\n",
    "1. Codificamos las columnas de género, modo de aprendizaje y convivientes a valores discretos.\n",
    "2. Creamos nuestro imputador para que utilize los 5 vecinos más cercanos y rellenamos los datos nulos que hemos ido preparando.\n",
    "3. Separamos los datos entre los utilizados para el entrenamiento y el dato objetivo a predecir"
   ]
  },
  {
   "cell_type": "code",
   "execution_count": null,
   "metadata": {},
   "outputs": [],
   "source": [
    "# Rellenamos los valores nulos con la imputación de los K(5) vecinos más cercanos\n",
    "from sklearn.impute import KNNImputer\n",
    "from sklearn import preprocessing\n",
    "\n",
    "le = preprocessing.LabelEncoder()\n",
    "dataCL['Gender'] = le.fit_transform(dataCL['Gender'])\n",
    "dataCL['Learning mode'] = le.fit_transform(dataCL['Learning mode'])\n",
    "dataCL['Cohabitants'] = le.fit_transform(dataCL['Cohabitants'])\n",
    "\n",
    "## print new matrix\n",
    "display(dataCL)\n",
    "\n",
    "imputer = KNNImputer(missing_values=np.nan, n_neighbors=5, weights='distance', metric='nan_euclidean')\n",
    "values = imputer.fit_transform(dataCL)\n",
    "dataCL = pd.DataFrame(values, columns = dataCL.columns)\n",
    "display(dataCL)\n",
    "\n",
    "data_columns = ['Gender', 'Age stand', 'Study stand', 'Learning mode','Social stand', 'Attendance stand', 'Cohabitants','Previous SGPA stand', 'Family income stand']\n",
    "data_target = ['Current CPGA stand']\n",
    "\n",
    "dataCL.data = dataCL[data_columns]\n",
    "dataCL.target = dataCL[data_target]\n",
    "\n",
    "X_train = dataCL.data[:-250]\n",
    "y_train = dataCL.target[:-250]\n",
    "X_test = dataCL.data[-250:]\n",
    "y_test = dataCL.target[-250:]"
   ]
  },
  {
   "cell_type": "markdown",
   "metadata": {},
   "source": [
    "## KNN"
   ]
  },
  {
   "cell_type": "code",
   "execution_count": null,
   "metadata": {},
   "outputs": [],
   "source": [
    "from sklearn.neighbors import KNeighborsRegressor\n",
    "\n",
    "# Crear el modelo\n",
    "knn = KNeighborsRegressor(n_neighbors=3)\n",
    "\n",
    "# Ajustar el modelo a los datos de entrenamiento\n",
    "knn.fit(X_train, y_train)\n",
    "\n",
    "prediction = knn.predict(X_test)\n",
    "print(\"Prediccion\")\n",
    "print(prediction)\n",
    "print(\"Test\")\n",
    "print(y_test)\n",
    "\n",
    "knn.score(X_test, y_test)"
   ]
  },
  {
   "cell_type": "markdown",
   "metadata": {},
   "source": [
    "## Árboles de decisión"
   ]
  },
  {
   "cell_type": "code",
   "execution_count": null,
   "metadata": {},
   "outputs": [],
   "source": [
    "from sklearn.tree import DecisionTreeRegressor\n",
    "from sklearn.tree import export_text\n",
    "\n",
    "decision_tree = DecisionTreeRegressor(random_state=0, max_depth=2)\n",
    "\n",
    "decision_tree = decision_tree.fit(X_train, y_train)\n",
    "r = export_text(decision_tree)\n",
    "print(r)\n",
    "decision_tree.score(X_test, y_test)"
   ]
  },
  {
   "cell_type": "markdown",
   "metadata": {},
   "source": [
    "## SVM"
   ]
  },
  {
   "cell_type": "code",
   "execution_count": null,
   "metadata": {},
   "outputs": [],
   "source": [
    "from sklearn.svm import SVC\n",
    "classifier = SVC(kernel='linear', random_state=0)\n",
    "\n",
    "classifier.fit(X_train, y_train)\n",
    "\n",
    "y_pred = classifier.predict(X_test)\n",
    "print(y_pred)\n",
    "model.score(X_test, y_test) ## no se lo que es model"
   ]
  },
  {
   "cell_type": "markdown",
   "metadata": {},
   "source": [
    "## Red Neuronal"
   ]
  },
  {
   "cell_type": "code",
   "execution_count": null,
   "metadata": {},
   "outputs": [],
   "source": [
    "from sklearn.neural_network import MLPRegressor\n",
    "from sklearn.model_selection import train_test_split\n",
    "\n",
    "X, y = make_classification(n_samples=100, random_state=1)\n",
    "X_train, X_test, y_train, y_test = train_test_split(X, y, stratify=y, random_state=1)\n",
    "clf = MLPRegressor(random_state=1, max_iter=300, verbose=True).fit(X_train, y_train)\n",
    "clf.predict_proba(X_test[:1])\n",
    "y_pred = clf.predict(X_test[:, :])\n",
    "print(y_test)\n",
    "print(y_pred)\n",
    "clf.score(X_test, y_test)"
   ]
  },
  {
   "cell_type": "code",
   "execution_count": null,
   "metadata": {},
   "outputs": [],
   "source": []
  }
 ],
 "metadata": {
  "kernelspec": {
   "display_name": "Python 3 (ipykernel)",
   "language": "python",
   "name": "python3"
  },
  "language_info": {
   "codemirror_mode": {
    "name": "ipython",
    "version": 3
   },
   "file_extension": ".py",
   "mimetype": "text/x-python",
   "name": "python",
   "nbconvert_exporter": "python",
   "pygments_lexer": "ipython3",
   "version": "3.10.12"
  }
 },
 "nbformat": 4,
 "nbformat_minor": 2
}
