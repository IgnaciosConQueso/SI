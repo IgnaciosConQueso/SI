{
 "cells": [
  {
   "cell_type": "markdown",
   "metadata": {},
   "source": [
    "# Introducción\n",
    "\n",
    "Se ha notado que hay ciertos profesores que no consiguen acercar las adaptaciones necesarias a sus alumnos. El objetivo de nuestra tecnología sería predecir el nivel académico que va a desempeñar el alumno para estar más pendientes de aquellos alumnos que lo necesiten.\n",
    "\n",
    "Para ello, se va a utilizar un dataset que contiene información sobre los alumnos y su rendimiento académico. Se va a realizar un análisis exploratorio de los datos para entender mejor la información que contienen y poder realizar un modelo predictivo que nos permita predecir el nivel académico de los alumnos.\n",
    "\n",
    "# Dataset\n",
    "\n",
    "## Columnas del dataset que vamos a usar\n",
    "- `Gender`: Género del alumno\n",
    "- `Age` : Edad del alumno\n",
    "- `Study Hour/Day` : Horas de estudio al día\n",
    "- `Learning mode` : Modalidad de aprendizaje\n",
    "- `How many hour do you spent daily in social media?` : Horas diarias en redes sociales\n",
    "- `Average attendance` : Asistencia media\n",
    "- `With whom you are living?` : Con quién vive\n",
    "- `What was your previous SGPA?` : Nota media anterior\n",
    "- `What is your monthly family income?` : Nota media anterior"
   ]
  },
  {
   "cell_type": "code",
   "execution_count": null,
   "metadata": {},
   "outputs": [],
   "source": []
  }
 ],
 "metadata": {
  "language_info": {
   "name": "python"
  }
 },
 "nbformat": 4,
 "nbformat_minor": 2
}
