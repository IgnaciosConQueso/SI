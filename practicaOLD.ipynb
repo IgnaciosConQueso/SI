{
 "cells": [
  {
   "cell_type": "markdown",
   "metadata": {},
   "source": [
    "# Introducción\n",
    "\n",
    "Se ha notado que hay ciertos profesores que no consiguen acercar las adaptaciones necesarias a sus alumnos. El objetivo de nuestra tecnología sería predecir el nivel académico que va a desempeñar el alumno para estar más pendientes de aquellos alumnos que lo necesiten.\n",
    "\n",
    "Para ello, se va a utilizar un dataset que contiene información sobre los alumnos y su rendimiento académico. Se va a realizar un análisis exploratorio de los datos para entender mejor la información que contienen y poder realizar un modelo predictivo que nos permita predecir el nivel académico de los alumnos.\n",
    "\n",
    "# Dataset\n",
    "\n",
    "## Columnas del dataset que vamos a usar\n",
    "- `Gender`: Género del alumno\n",
    "- `Age` : Edad del alumno\n",
    "- `Study Hour/Day` : Horas de estudio al día\n",
    "- `Learning mode` : Modalidad de aprendizaje\n",
    "- `How many hour do you spent daily in social media?` : Horas diarias en redes sociales\n",
    "- `Average attendance` : Asistencia media\n",
    "- `With whom you are living?` : Con quién vive\n",
    "- `What was your previous SGPA?` : Nota media anterior\n",
    "- `What is your monthly family income?` : Nota media anterior\n",
    "\n",
    "Lo primero que hemos hecho ha sido renombrar algunas de las columnas ya que no estaban muy bien redactadas. Además, hemos eliminado las columnas que no vamos a utilizar en nuestro análisis. \n",
    "\n",
    "Lo siguiente que hemos hecho ha sido eliminar las filas que contienen valores nulos."
   ]
  },
  {
   "cell_type": "code",
   "execution_count": 27,
   "metadata": {},
   "outputs": [],
   "source": [
    "#Limpieza del dataset de los datos de los estudiantes.\n",
    "import numpy as np\n",
    "import matplotlib.pyplot as plt\n",
    "import seaborn as sns\n",
    "import pandas as pd\n",
    "import regex as re\n",
    "\n",
    "#Cargamos el dataset\n",
    "\n",
    "data = pd.read_csv('Students_Performance_data_set.csv')\n",
    "\n",
    "pd.set_option('display.max_columns', None)\n",
    "\n",
    "data.shape\n",
    "\n",
    "#Renombramos las columnas que nos interesan\n",
    "\n",
    "new_columns = {'Gender':'Gender', 'Age':'Age', 'Study Hour/day':'Study time', 'Learning mode':'Learning mode', 'How many hour do you spent daily in social media?':'Time on social media', 'Average attendance on class':'Average attendance', 'With whom you are living with?':'Cohabitants', 'What was your previous SGPA?':'Previous SGPA', 'What is your current CGPA?':'Current CPGA', 'What is your monthly family income?':'Family income'}\n",
    "\n",
    "data.rename(columns=new_columns, inplace=True)\n",
    "\n",
    "#Seleccionamos las columnas que nos interesan\n",
    "\n",
    "columns_of_interest = ['Gender', 'Age', 'Study time', 'Learning mode', 'Time on social media', 'Average attendance', 'Cohabitants', 'Previous SGPA', 'Current CPGA',  'Family income']\n",
    "\n",
    "data = data[columns_of_interest]\n",
    "\n",
    "#Eliminamos las filas con valores nulos\n",
    "data = data.dropna()"
   ]
  },
  {
   "cell_type": "markdown",
   "metadata": {},
   "source": [
    "## Estandarización de Age\n",
    "Hemos usado la funcion unique() para ver que tipos de valores pueden tomar estos datos. Hemos apuntados aquellos que no son numéricos o dan un rango y hemos decidido cambiarlos a numéricos. Esto se puede ver el bloque de código siguiente."
   ]
  },
  {
   "cell_type": "code",
   "execution_count": 33,
   "metadata": {},
   "outputs": [
    {
     "name": "stdout",
     "output_type": "stream",
     "text": [
      "['22' '20' '21' '19' '24' '23' '25' 21 '26' 23 20 '18' 22 24]\n"
     ]
    }
   ],
   "source": [
    "data['Age'].unique()\n",
    "\n",
    "# notamos que hay 6 valores que se salen de un numero como tal asi que usamos un replace para cambiarlos a un valor que no afecte el analisis\n",
    "data['Age'] = data['Age'].replace({\n",
    "    '21+' : 21,\n",
    "    '23.6' : 23,\n",
    "    '20+' : 20,\n",
    "    '22+' : 22,\n",
    "    '24+' : 24,\n",
    "    '20 years 6 months' : 20\n",
    "})"
   ]
  },
  {
   "cell_type": "markdown",
   "metadata": {},
   "source": [
    "## Estandarizacion de tiempos\n",
    "\n",
    "Lo que hemos hecho en el codigo que sigue este bloque de markdown es estandarizar los tiempos para poder tener los datos correctos tanto como para el Study Time como para el Time on Social Media."
   ]
  },
  {
   "cell_type": "code",
   "execution_count": 29,
   "metadata": {},
   "outputs": [],
   "source": [
    "### Usamos la función unique para ver los valores únicos de la columna y asi saber como estandarizarlos\n",
    "# print(data['Study time'].unique())\n",
    "\n",
    "def standarise_time(time): # sigue teniendo un error en la función cuando tiene un valor de minutos y otro seguido de horas\n",
    "    # we extract the number and hour/minute from the string\n",
    "    hours_numeric = re.findall(r'\\d+', str(time))\n",
    "    \n",
    "    # extract the numeric value for the hours\n",
    "    if 'hours' in str(time).lower() or 'hour' in str(time).lower() or 'hrs' in str(time).lower() or 'hr' in str(time).lower():\n",
    "        if hours_numeric:\n",
    "            return int(hours_numeric[0])\n",
    "        else:\n",
    "            return None\n",
    "    # extract the numeric value for the minutes and convert them to hours convert to lower case to avoid case sensitivity\n",
    "    elif 'minutes' in str(time).lower() or 'minute' in str(time).lower() or 'mins' in str(time).lower() or 'min' in str(time).lower() :\n",
    "        if hours_numeric:\n",
    "            return int(hours_numeric[0])/60\n",
    "        else:\n",
    "            return None\n",
    "\n",
    "    # Some of the data is written in a range format, so we need to calculate the average\n",
    "    elif '-' in str(time) or 'to' in str(time).lower() or 'or' in str(time).lower() or '/' in str(time):\n",
    "        # we calculate the average\n",
    "        if len(hours_numeric) == 2:\n",
    "            return (int(hours_numeric[0]) + int(hours_numeric[1]))/2\n",
    "        else:\n",
    "            return None\n",
    "    # if the data is in a numeric format, we just return the number\n",
    "    elif hours_numeric:\n",
    "        return int(hours_numeric[0])\n",
    "    else:\n",
    "        return None\n",
    "\n",
    "data['Study stand'] = data['Study time'].apply(standarise_time)\n",
    "#data['Social stand'] = data['Time on social media'].apply(standarise_time)\n",
    "#data_test = data[['Study time', 'Study stand', 'Time on social media', 'Social stand']]\n",
    "#print(data_test.to_string())\n",
    "#print (data['Social stand'].unique())"
   ]
  },
  {
   "cell_type": "markdown",
   "metadata": {},
   "source": [
    "## Estandarizacion de Attendance\n",
    "\n",
    "En el siguiente bloque de codigo hemos implementado la funcion standarise_attendance(value) convirtiendo los datos para que siguan el mismo formato compuesto por un numero y ya esta."
   ]
  },
  {
   "cell_type": "code",
   "execution_count": 30,
   "metadata": {},
   "outputs": [
    {
     "name": "stdout",
     "output_type": "stream",
     "text": [
      "[100.  90.  95.  nan  96.  85.  97.  99.  70.  80.  98.  50.  25.  87.\n",
      "  40.  65.  75.   2.  60.  92.  88.   0.  10.  37.  93.  78.  57.  86.\n",
      "  54.  77.  68.  45.  46.  51.  34.  56.  76.  63.  89.  79.  35.  41.\n",
      "  83.  84.  67.  72.  42.  47.  23.  55.  32.  66.  30.  43.  71.  31.\n",
      "  64.  73.  24.  91.  53.]\n"
     ]
    }
   ],
   "source": [
    "def standarise_attendance(attendance):\n",
    "    \n",
    "    # primero quitamos todos los caracteres que no sean alfanuméricos o un signo de porcentaje\n",
    "    value = re.sub(r'[^a-zA-Z0-9%]', '', str(attendance))\n",
    "    \n",
    "    if '%' in value:\n",
    "        value = re.search(r'\\d+', value).group()\n",
    "        value = int(value)\n",
    "    # si no es un porcentaje intentar convertirlo a un número\n",
    "    else:\n",
    "        try:\n",
    "            value = int(value)\n",
    "        except ValueError:\n",
    "            value = float('nan')\n",
    "            \n",
    "    # asegurarse de que el valor esté entre 0 y 100\n",
    "    value = min(max(value, 0), 100)\n",
    "    return value\n",
    "\n",
    "data['Attendance stand'] = data['Average attendance'].apply(standarise_attendance)\n",
    "\n"
   ]
  },
  {
   "cell_type": "markdown",
   "metadata": {},
   "source": [
    "## Estandarizacion de CGPA y SGPA\n",
    "\n",
    "En este caso en vez de definir una funcion como todos los datos que estan en formato numerico son correctos usamos to_numeric() de pandas, cuando se encuentre con una valor que no se puede convertir a numerico devolvemos NaN con errors='coerce'"
   ]
  },
  {
   "cell_type": "code",
   "execution_count": 31,
   "metadata": {},
   "outputs": [
    {
     "name": "stdout",
     "output_type": "stream",
     "text": [
      "[3.64    3.53    3.89    3.5     3.65    3.81    3.82    3.48    3.32\n",
      " 3.88    4.      3.9     3.8     3.52    3.67    2.74    2.8     3.1\n",
      " 3.58    2.69    3.77    2.53    2.66    2.6     2.91    2.99    2.92\n",
      " 2.96    2.9     3.08    2.68    2.42    3.23    2.22    3.24    2.76\n",
      " 3.3     2.4     2.75    2.31    2.51        nan 3.92    3.25    3.73\n",
      " 2.      3.56    3.02    3.2     3.26    3.68    3.72    2.84    2.67\n",
      " 3.6     3.35    3.42    0.      3.59    2.54    3.05    2.2     3.22\n",
      " 3.78    3.75    3.39    3.14    2.15    3.33    2.64    3.43    3.83\n",
      " 2.98    3.79    2.89    3.18    3.03    4.67    3.7     3.4     2.95\n",
      " 2.72    2.56    2.73    3.07    3.      3.38    3.21    3.45    3.74\n",
      " 3.36    3.01    3.93    3.55    2.44    3.15    3.27    3.19    3.37\n",
      " 2.88    2.43    3.44    3.09    3.95    3.84    3.94    3.86    3.71\n",
      " 3.99    3.61    2.94    2.97    2.61    3.91    2.55    3.62    3.97\n",
      " 2.1     2.25    2.01    3.295   3.69    3.29    3.41    0.13125 2.81\n",
      " 2.08    3.66    2.93    3.76    3.06    1.88    2.82    3.98    1.45\n",
      " 3.17    1.42    3.13    3.85    2.5     3.47    2.3     2.86    2.87\n",
      " 2.77    2.85    2.47    4.6     3.57    2.41    3.63    1.75    3.51\n",
      " 2.83    3.54    2.45    1.64    3.12    3.34    3.46    3.16    2.46\n",
      " 2.19    2.65    2.59    3.11    2.38    3.49    2.79    3.31    2.16\n",
      " 2.63    2.57    3.28    3.87    2.33    2.49    2.62    2.37    2.78\n",
      " 2.7     2.71    2.39    2.52    3.96    2.35    2.48   ]\n",
      "[3.8     3.4     3.93    3.1     3.81    3.89    3.79    3.55    3.28\n",
      " 3.78    4.      3.9     3.84    3.31    3.49    3.07    3.76    2.7\n",
      " 3.5     3.38    1.89    3.7     0.      2.2     2.6     2.87    2.98\n",
      " 3.52    3.48    3.16    1.92    3.29    2.      3.3     3.01    3.2\n",
      " 2.4     2.16    1.75    3.33    3.25    3.46    3.73    3.42    3.26\n",
      " 3.82    3.85    2.67    3.72    3.51    2.65    1.96    2.8     3.36\n",
      " 2.11    2.83    2.81        nan 3.68    3.64    3.56    1.68    2.54\n",
      " 3.14    3.69    2.73    2.61    1.52    3.12    2.25    3.83    1.98\n",
      " 3.37    4.5     2.79    3.18    2.49    4.59    3.86    3.58    2.57\n",
      " 2.45    3.47    2.53    2.56    2.36    3.19    3.6     3.75    2.68\n",
      " 3.39    3.03    3.61    5.      3.      1.61    3.65    2.94    1.53\n",
      " 2.32    2.89    3.17    2.26    3.45    2.93    3.06    3.92    3.63\n",
      " 3.98    2.96    3.96    2.86    0.5     2.52    3.34    1.05    2.06\n",
      " 3.67    1.63    2.55    3.74    2.1     2.72    3.21    3.95    2.59\n",
      " 3.53    3.43    3.02    0.13125 3.05    2.18    3.62    3.88    3.97\n",
      " 3.77    3.44    2.58    2.17    1.12    4.55    2.44    2.82    4.7\n",
      " 3.54    1.78    2.08    1.62    2.9     3.13    2.5     3.24    2.3\n",
      " 3.87    2.02    1.87    0.35    2.04    2.66    3.04    1.76    3.15\n",
      " 3.94    3.32    4.6     2.62    2.75    3.57    2.88    2.74    1.41\n",
      " 3.66    2.63    1.91    1.97    3.22    2.91    2.15    2.92    2.13\n",
      " 3.59    2.76    3.08    2.37    1.8     2.78    1.45    2.64    1.77\n",
      " 2.19    1.83    1.34    1.72    1.51    2.33    1.6     1.19    1.65\n",
      " 2.07    2.77    2.51    2.22    1.86    1.81    1.56    2.23    2.21\n",
      " 2.41    1.79    2.03    1.66    1.55    1.25    1.54    2.39    2.29\n",
      " 2.34    1.43    1.26    2.46    1.67    1.46    1.44    1.57    2.85\n",
      " 2.48    2.31    2.09    1.88    1.99    1.9     1.4     1.59    2.38\n",
      " 1.21    2.05    1.15    1.35    1.7     2.01    1.47    1.58    1.24\n",
      " 1.95    1.11    1.71    1.33    2.71    2.43    1.38    1.23    2.35\n",
      " 1.22   ]\n"
     ]
    }
   ],
   "source": [
    "data[\"Current CPGA stand\"] = pd.to_numeric(data[\"Current CPGA\"], errors='coerce')\n",
    "data[\"Previous SGPA stand\"] = pd.to_numeric(data[\"Previous SGPA\"], errors='coerce')"
   ]
  },
  {
   "cell_type": "markdown",
   "metadata": {},
   "source": [
    "## Estandandarizacion de Family Income\n",
    "Como siempre usamos data.unique() para ver los valores que toman los datos y de ahi decidir como vamos a tratar los datos que consideramos \"anomalos\" o mal escritos.\n",
    "\n",
    "1. Convertir de otras monedas y otras magnitudes a bdt 10E\n",
    "2. Transformar los rangos a un valor numerico\n",
    "3. Quitar el BDT que es la moneda de Bangladesh\n",
    "4. Dejar numeros limpios. Alguna gente a puesto valores como \"Approximately 30000\". Lo hemos convertido al valor numerico\n",
    "5. Cambiar los valores que no son numericos a la media de income del dataset"
   ]
  },
  {
   "cell_type": "code",
   "execution_count": 76,
   "metadata": {},
   "outputs": [
    {
     "name": "stdout",
     "output_type": "stream",
     "text": [
      "207414.30738916257\n"
     ]
    },
    {
     "data": {
      "text/plain": [
       "array([   32500,    20000,    30000,   207414,    35000,    50000,\n",
       "          40000,     8000,   200000,    60000,    23000,   350000,\n",
       "          92000,        0,   150000,       30,    15000,    28000,\n",
       "           4000,    80000,    65000,       60,   500000,    25000,\n",
       "          22000,   100000,       40,    18000,    12000,    34000,\n",
       "          10000,    16000,       50,    36000,      150,    90000,\n",
       "          45000,    37000,   400006,    70000,     5000,   120000,\n",
       "       40000000,   300000,    49000,  2000000,     6500,    12500,\n",
       "       50000000,    68000,    16500,       25,    33000,       20,\n",
       "          47500,    26500,    55000,    24000,     1000, 18000000,\n",
       "         400000,       80,    14000,    21000,    13000,       35,\n",
       "          75000,    17500,      100,    48400,        5,    21940,\n",
       "          37500,    13500,       85,     7000,    19000,    38000,\n",
       "          10970,       10,        1,    39000,    41000,    44000,\n",
       "          46000,    52000,    54000,    57000,    58000,    59000,\n",
       "          61000,    64000,    66000,    67000,    71000,    74000,\n",
       "          76000,    77000,    78000,    79000,    81000,    82000,\n",
       "          85000,    86000,    87000,    88000,    89000,    91000,\n",
       "          93000,    95000,    98000,   110000,   115000,   116000,\n",
       "         117000,   123000,   128000,   130000,   134000,   135000,\n",
       "         144000,   155000,   158000,   165000,   170000,   190000,\n",
       "         235000,   250000,   255000,    32000,    42000,    47000,\n",
       "          48000,    53000,    56000,    62000,    73000,    83000,\n",
       "          97000,   112000,   113000,   122000,   127000,   133000,\n",
       "         140000,   145000,   160000,   169000,   277000,    43000,\n",
       "          51000,    96000,   119000,   121000,   136000,   137000,\n",
       "         167000,   180000,   210000])"
      ]
     },
     "execution_count": 76,
     "metadata": {},
     "output_type": "execute_result"
    }
   ],
   "source": [
    "\n",
    "# transform currency to bdt 10E\n",
    "def convert_to_bdt_standard(income):\n",
    "    if isinstance(income, str) and '$' in income.lower():\n",
    "        number = re.findall(r'\\d+', income)\n",
    "        if number:\n",
    "            return int(number[0])*109.7 #Conversion de dolar a taka 10.04.2024\n",
    "    if isinstance(income, str) and 'lac' in income.lower():\n",
    "        number = re.findall(r'\\d+', income)\n",
    "        if number:\n",
    "            return int(number[0])*100000 #Conversion de lakh(lac) a estandard\n",
    "    if isinstance(income, str) and 'k' in income.lower():\n",
    "        number = re.findall(r'\\d+', income)\n",
    "        if number:\n",
    "            return int(number[0])*1000\n",
    "    return income\n",
    "\n",
    "# transformamos rangos a la media\n",
    "def remove_range(income):\n",
    "    if isinstance(income, str) and ('-' in income or '/' in income) :\n",
    "        numbers = re.findall(r'\\d+', income)\n",
    "        if len(numbers) == 2:\n",
    "            return (int(numbers[0]) + int(numbers[1]))/2\n",
    "    return income\n",
    "    \n",
    "# quitando el BDT\n",
    "def remove_BDT(income):\n",
    "    if isinstance(income, str) and ('bdt' in income.lower() or 'DBT' in income or 'BTD' in income or 'taka' in income):\n",
    "        number = re.findall(r'\\d+', income)\n",
    "        if number:\n",
    "            return int(number[0])\n",
    "    return income\n",
    "\n",
    "def clean_numbers(income):\n",
    "    if isinstance(income, str):\n",
    "        number = re.findall(r'\\d+', income)\n",
    "        if number:\n",
    "            return number[0]\n",
    "    return income\n",
    "\n",
    "# apply the function to the column\n",
    "data['Family income test'] = data['Family income'].apply(convert_to_bdt_standard)\n",
    "\n",
    "data['Family income test'] = data['Family income test'].apply(remove_range)\n",
    "\n",
    "data['Family income test'] = data['Family income test'].apply(remove_BDT)\n",
    "\n",
    "data['Family income test'] = data['Family income test'].apply(clean_numbers)\n",
    "\n",
    "data['Family income test'] = pd.to_numeric(data['Family income test'], errors='coerce')\n",
    "\n",
    "mean_income = data['Family income test'].mean()\n",
    "\n",
    "print(mean_income)\n",
    "data['Family income test'] = data['Family income test'].fillna(mean_income)\n",
    "\n",
    "data['Family income test'] = data['Family income test'].astype(int) \n"
   ]
  }
 ],
 "metadata": {
  "kernelspec": {
   "display_name": "Python 3",
   "language": "python",
   "name": "python3"
  },
  "language_info": {
   "codemirror_mode": {
    "name": "ipython",
    "version": 3
   },
   "file_extension": ".py",
   "mimetype": "text/x-python",
   "name": "python",
   "nbconvert_exporter": "python",
   "pygments_lexer": "ipython3",
   "version": "3.11.9"
  }
 },
 "nbformat": 4,
 "nbformat_minor": 2
}
